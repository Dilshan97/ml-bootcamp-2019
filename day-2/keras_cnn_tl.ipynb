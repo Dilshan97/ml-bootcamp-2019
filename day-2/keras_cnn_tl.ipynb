{
 "cells": [
  {
   "cell_type": "markdown",
   "metadata": {
    "id": "59AqDN1n2Nld",
    "colab_type": "text"
   },
   "source": [
    "Let's train a pre-trained model to recognize new image classes"
   ]
  },
  {
   "cell_type": "markdown",
   "metadata": {
    "id": "5kBFmtEuWJZ6",
    "colab_type": "text"
   },
   "source": [
    "### Let's Configure "
   ]
  },
  {
   "cell_type": "code",
   "execution_count": 0,
   "metadata": {
    "id": "HKwsL2gP1bBK",
    "colab_type": "code",
    "colab": {}
   },
   "outputs": [],
   "source": [
    "import numpy\n",
    "import pandas as pd\n",
    "from keras import Sequential\n",
    "from keras.layers import Flatten, Dense, Dropout\n",
    "from keras.utils import to_categorical\n",
    "from keras.preprocessing import image\n",
    "from pathlib import Path\n",
    "from keras.applications import resnet50"
   ]
  },
  {
   "cell_type": "markdown",
   "metadata": {
    "id": "snct3O8-25EY",
    "colab_type": "text"
   },
   "source": [
    "Configure Kaggle in the runtime and download data from kaggle"
   ]
  },
  {
   "cell_type": "code",
   "execution_count": 0,
   "metadata": {
    "id": "8-JutY3X2esa",
    "colab_type": "code",
    "colab": {}
   },
   "outputs": [],
   "source": [
    "#!mkdir ~/.kaggle\n",
    "#!mv kaggle.json ~/.kaggle/\n",
    "!kaggle competitions download -c dog-breed-identification"
   ]
  },
  {
   "cell_type": "markdown",
   "metadata": {
    "id": "rMqcpZEr3Vcr",
    "colab_type": "text"
   },
   "source": [
    "Unzip everything and remove zip files"
   ]
  },
  {
   "cell_type": "code",
   "execution_count": 0,
   "metadata": {
    "id": "diEPhSFh3bPD",
    "colab_type": "code",
    "colab": {}
   },
   "outputs": [],
   "source": [
    "!unzip -q test.zip\n",
    "!unzip -q train.zip\n",
    "!unzip -q labels.csv.zip\n",
    "\n",
    "!rm -rf *.zip"
   ]
  },
  {
   "cell_type": "code",
   "execution_count": 0,
   "metadata": {
    "id": "3HBVjVWd45t7",
    "colab_type": "code",
    "colab": {}
   },
   "outputs": [],
   "source": [
    "!echo -e \"affenpinscher\\nafghan_hound\\nafrican_hunting_dog\\nairedale\\namerican_staffordshire_terrier\" > label_class.txt"
   ]
  },
  {
   "cell_type": "markdown",
   "metadata": {
    "id": "WcOmnh883v_H",
    "colab_type": "text"
   },
   "source": [
    "Configure our paths"
   ]
  },
  {
   "cell_type": "code",
   "execution_count": 0,
   "metadata": {
    "id": "ySAEaSAt3zRI",
    "colab_type": "code",
    "colab": {}
   },
   "outputs": [],
   "source": [
    "#Image paths for training and testing\n",
    "train_path = Path(\"train\")\n",
    "test_path = Path(\"test\")\n",
    "\n",
    "#File paths for all info and the labels\n",
    "labels_file_path = \"labels.csv\"\n",
    "label_class_path = \"label_class.txt\""
   ]
  },
  {
   "cell_type": "markdown",
   "metadata": {
    "id": "a2dCewSWWBRo",
    "colab_type": "text"
   },
   "source": [
    "### Let's Load our Data"
   ]
  },
  {
   "cell_type": "code",
   "execution_count": 0,
   "metadata": {
    "id": "5fYoCLvU594h",
    "colab_type": "code",
    "colab": {}
   },
   "outputs": [],
   "source": [
    "data = pd.read_csv(labels_file_path)\n",
    "\n",
    "# Read dog breeds into a dictionary\n",
    "breeds = pd.read_csv(label_class_path, header=None).values\n",
    "breeds_dic = {}\n",
    "for i in range(len(breeds)):\n",
    "    breeds_dic[breeds[i][0]] = i\n",
    "\n",
    "image_names_col = pd.DataFrame(data, columns=['id']).values\n",
    "labels_col = pd.DataFrame(data, columns=['breed']).values\n",
    "data_dic = {}\n",
    "for i in range(len(data)):\n",
    "    data_dic[image_names_col[i][0]] = labels_col[i][0]"
   ]
  },
  {
   "cell_type": "markdown",
   "metadata": {
    "id": "MG34fKroWi8O",
    "colab_type": "text"
   },
   "source": [
    "We read our images, resize them to 300x300 and store them inside the images list"
   ]
  },
  {
   "cell_type": "code",
   "execution_count": 0,
   "metadata": {
    "id": "Yr-tcJNjWnCt",
    "colab_type": "code",
    "colab": {}
   },
   "outputs": [],
   "source": [
    "images = []\n",
    "labels = []\n",
    "\n",
    "\n",
    "def load_convert_image(img_path):\n",
    "    img = image.load_img(img_path, target_size=(300, 300))\n",
    "    img_array = image.img_to_array(img)\n",
    "    return img_array\n",
    "\n",
    "\n",
    "for im in train_path.glob(\"*.jpg\"):\n",
    "    label = data_dic.get(im.stem)\n",
    "    label_class = breeds_dic.get(label)\n",
    "    if label_class is not None:\n",
    "        labels.append(label_class)\n",
    "        images.append(load_convert_image(im))"
   ]
  },
  {
   "cell_type": "code",
   "execution_count": 0,
   "metadata": {
    "id": "TfITS5i2XC5K",
    "colab_type": "code",
    "colab": {}
   },
   "outputs": [],
   "source": [
    "#Convert our labels into one hot encoding\n",
    "#we use this as the output for our new CNN\n",
    "y = to_categorical(labels)\n",
    "print(str(labels[0]) + \" \" + str(labels[1]))\n",
    "print(y[0])\n",
    "print(y[1])"
   ]
  },
  {
   "cell_type": "markdown",
   "metadata": {
    "id": "glAvI6EUWSdJ",
    "colab_type": "text"
   },
   "source": [
    "### Let's Configure the Model"
   ]
  },
  {
   "cell_type": "code",
   "execution_count": 0,
   "metadata": {
    "id": "NjlcGaGR6hOB",
    "colab_type": "code",
    "colab": {}
   },
   "outputs": [],
   "source": [
    "#Download the ResNet50 model\n",
    "#include top false means we remove the final dense layer\n",
    "feature_model = resnet50.ResNet50(weights=\"imagenet\",include_top=False, input_shape=(300, 300, 3))"
   ]
  },
  {
   "cell_type": "code",
   "execution_count": 0,
   "metadata": {
    "id": "RkWEvB3C6lQ9",
    "colab_type": "code",
    "colab": {}
   },
   "outputs": [],
   "source": [
    "#Preprocess the data\n",
    "X = resnet50.preprocess_input(numpy.array(images))\n",
    "\n",
    "#This is the output of the convo layers\n",
    "#These will be the input for the new Dense layer\n",
    "X_for_dense_model = feature_model.predict(X)"
   ]
  },
  {
   "cell_type": "code",
   "execution_count": 0,
   "metadata": {
    "id": "s8DDrI5v6tKu",
    "colab_type": "code",
    "colab": {}
   },
   "outputs": [],
   "source": [
    "#Creating our new dense layer using keras Sequential()\n",
    "model = Sequential()\n",
    "model.add(Flatten(input_shape=X_for_dense_model.shape[1:]))\n",
    "model.add(Dense(512, activation='relu'))\n",
    "model.add(Dropout(0.3))\n",
    "model.add(Dense(len(breeds_dic), activation=\"softmax\"))"
   ]
  },
  {
   "cell_type": "markdown",
   "metadata": {
    "id": "vb1ib3GZYtJh",
    "colab_type": "text"
   },
   "source": [
    "###Train the model"
   ]
  },
  {
   "cell_type": "code",
   "execution_count": 0,
   "metadata": {
    "id": "fSgeUicHYhTH",
    "colab_type": "code",
    "colab": {}
   },
   "outputs": [],
   "source": [
    "model.compile(optimizer='adam', metrics=['accuracy'], loss='categorical_crossentropy')\n",
    "\n",
    "model.fit(\n",
    "    X_for_dense_model,\n",
    "    y,\n",
    "    epochs=20,\n",
    "    shuffle=True\n",
    ")"
   ]
  },
  {
   "cell_type": "markdown",
   "metadata": {
    "id": "YVvBrDNRY3AD",
    "colab_type": "text"
   },
   "source": [
    "###Test the model"
   ]
  },
  {
   "cell_type": "code",
   "execution_count": 0,
   "metadata": {
    "id": "FZGJfg1y8vFk",
    "colab_type": "code",
    "colab": {}
   },
   "outputs": [],
   "source": [
    "#Let's feed in this image to the model\n",
    "im = load_convert_image(\"test/00b29dbc49177cd4faeac3c485330af9.jpg\")\n",
    "ims = numpy.expand_dims(im, axis=0)"
   ]
  },
  {
   "cell_type": "code",
   "execution_count": 0,
   "metadata": {
    "id": "daX-KV0DAVc6",
    "colab_type": "code",
    "colab": {}
   },
   "outputs": [],
   "source": [
    "#Preprocess\n",
    "x_test = resnet50.preprocess_input(numpy.array(ims))\n",
    "\n",
    "#Get the output from the convo layers\n",
    "x_test_for_dense_model = feature_model.predict(x_test)\n",
    "\n",
    "#Feed the convo output as the input for prediction\n",
    "result = model.predict(x_test_for_dense_model)"
   ]
  },
  {
   "cell_type": "code",
   "execution_count": 46,
   "metadata": {
    "id": "9p_FaL7oTpnz",
    "colab_type": "code",
    "colab": {
     "base_uri": "https://localhost:8080/",
     "height": 35.0
    },
    "outputId": "63e273c2-a230-4722-89ad-291063aba7ba"
   },
   "outputs": [
    {
     "name": "stdout",
     "output_type": "stream",
     "text": [
      "american_staffordshire_terrier\n"
     ]
    }
   ],
   "source": [
    "#Reverse the onehot encoding and display the result\n",
    "from numpy import argmax\n",
    "res = argmax(result)\n",
    "print(breeds[4][0])"
   ]
  },
  {
   "cell_type": "markdown",
   "metadata": {
    "id": "_Clwei25Zkxk",
    "colab_type": "text"
   },
   "source": [
    "###Convert the model to a tf.lite"
   ]
  },
  {
   "cell_type": "code",
   "execution_count": 0,
   "metadata": {
    "id": "RKoc3c_IPUSR",
    "colab_type": "code",
    "colab": {}
   },
   "outputs": [],
   "source": [
    "model.save('my_model.h5')"
   ]
  },
  {
   "cell_type": "code",
   "execution_count": 0,
   "metadata": {
    "id": "mV_v0EtmRfnd",
    "colab_type": "code",
    "colab": {}
   },
   "outputs": [],
   "source": [
    "import tensorflow as tf\n",
    "\n",
    "converter = tf.lite.TFLiteConverter.from_keras_model_file(\"my_model.h5\")\n",
    "tflite_model = converter.convert()\n",
    "open(\"converted_model.tflite\", \"wb\").write(tflite_model)"
   ]
  }
 ],
 "metadata": {
  "colab": {
   "name": "keras_cnn_tl.ipynb",
   "version": "0.3.2",
   "provenance": [],
   "collapsed_sections": []
  },
  "kernelspec": {
   "name": "python3",
   "display_name": "Python 3"
  }
 },
 "nbformat": 4,
 "nbformat_minor": 0
}
